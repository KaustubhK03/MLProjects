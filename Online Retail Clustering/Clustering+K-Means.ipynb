{
 "cells": [
  {
   "cell_type": "code",
   "outputs": [],
   "source": [
    "import pandas as pd, numpy as np, matplotlib.pyplot as plt, seaborn as sns\n",
    "from sklearn.preprocessing import StandardScaler\n",
    "from sklearn.neighbors import NearestNeighbors\n",
    "from sklearn.cluster import KMeans\n",
    "from sklearn.metrics import silhouette_score\n",
    "from random import sample\n",
    "from math import isnan\n",
    "%matplotlib inline\n",
    "import warnings\n",
    "warnings.filterwarnings(\"ignore\")"
   ],
   "metadata": {
    "collapsed": false,
    "ExecuteTime": {
     "end_time": "2023-12-28T14:53:41.170141Z",
     "start_time": "2023-12-28T14:53:40.921413Z"
    }
   },
   "id": "2f955b3f229f257d",
   "execution_count": 83
  },
  {
   "cell_type": "markdown",
   "source": [
    "The Steps are broadly:\n",
    "1) Read and Understand the Data\n",
    "2) Clean The data\n",
    "3) Prepare the data for modelling\n",
    "4) Modelling\n",
    "5) Analysis and Business Recommendations"
   ],
   "metadata": {
    "collapsed": false
   },
   "id": "d7957606e3d7b573"
  },
  {
   "cell_type": "markdown",
   "source": [
    "## 1) Read and Understand the Data "
   ],
   "metadata": {
    "collapsed": false
   },
   "id": "26123b7cda6537bf"
  },
  {
   "cell_type": "code",
   "outputs": [
    {
     "data": {
      "text/plain": "  InvoiceNo StockCode                          Description  Quantity  \\\n0    536365    85123A   WHITE HANGING HEART T-LIGHT HOLDER         6   \n1    536365     71053                  WHITE METAL LANTERN         6   \n2    536365    84406B       CREAM CUPID HEARTS COAT HANGER         8   \n3    536365    84029G  KNITTED UNION FLAG HOT WATER BOTTLE         6   \n4    536365    84029E       RED WOOLLY HOTTIE WHITE HEART.         6   \n\n        InvoiceDate  UnitPrice  CustomerID         Country  \n0  01-12-2010 08:26       2.55     17850.0  United Kingdom  \n1  01-12-2010 08:26       3.39     17850.0  United Kingdom  \n2  01-12-2010 08:26       2.75     17850.0  United Kingdom  \n3  01-12-2010 08:26       3.39     17850.0  United Kingdom  \n4  01-12-2010 08:26       3.39     17850.0  United Kingdom  ",
      "text/html": "<div>\n<style scoped>\n    .dataframe tbody tr th:only-of-type {\n        vertical-align: middle;\n    }\n\n    .dataframe tbody tr th {\n        vertical-align: top;\n    }\n\n    .dataframe thead th {\n        text-align: right;\n    }\n</style>\n<table border=\"1\" class=\"dataframe\">\n  <thead>\n    <tr style=\"text-align: right;\">\n      <th></th>\n      <th>InvoiceNo</th>\n      <th>StockCode</th>\n      <th>Description</th>\n      <th>Quantity</th>\n      <th>InvoiceDate</th>\n      <th>UnitPrice</th>\n      <th>CustomerID</th>\n      <th>Country</th>\n    </tr>\n  </thead>\n  <tbody>\n    <tr>\n      <th>0</th>\n      <td>536365</td>\n      <td>85123A</td>\n      <td>WHITE HANGING HEART T-LIGHT HOLDER</td>\n      <td>6</td>\n      <td>01-12-2010 08:26</td>\n      <td>2.55</td>\n      <td>17850.0</td>\n      <td>United Kingdom</td>\n    </tr>\n    <tr>\n      <th>1</th>\n      <td>536365</td>\n      <td>71053</td>\n      <td>WHITE METAL LANTERN</td>\n      <td>6</td>\n      <td>01-12-2010 08:26</td>\n      <td>3.39</td>\n      <td>17850.0</td>\n      <td>United Kingdom</td>\n    </tr>\n    <tr>\n      <th>2</th>\n      <td>536365</td>\n      <td>84406B</td>\n      <td>CREAM CUPID HEARTS COAT HANGER</td>\n      <td>8</td>\n      <td>01-12-2010 08:26</td>\n      <td>2.75</td>\n      <td>17850.0</td>\n      <td>United Kingdom</td>\n    </tr>\n    <tr>\n      <th>3</th>\n      <td>536365</td>\n      <td>84029G</td>\n      <td>KNITTED UNION FLAG HOT WATER BOTTLE</td>\n      <td>6</td>\n      <td>01-12-2010 08:26</td>\n      <td>3.39</td>\n      <td>17850.0</td>\n      <td>United Kingdom</td>\n    </tr>\n    <tr>\n      <th>4</th>\n      <td>536365</td>\n      <td>84029E</td>\n      <td>RED WOOLLY HOTTIE WHITE HEART.</td>\n      <td>6</td>\n      <td>01-12-2010 08:26</td>\n      <td>3.39</td>\n      <td>17850.0</td>\n      <td>United Kingdom</td>\n    </tr>\n  </tbody>\n</table>\n</div>"
     },
     "execution_count": 84,
     "metadata": {},
     "output_type": "execute_result"
    }
   ],
   "source": [
    "# Read The Dataset\n",
    "retail_df = pd.read_csv(\"Online+Retail.csv\", sep=\",\", encoding=\"ISO-8859-1\", header=0)\n",
    "retail_df.head()"
   ],
   "metadata": {
    "collapsed": false,
    "ExecuteTime": {
     "end_time": "2023-12-28T14:53:41.608594Z",
     "start_time": "2023-12-28T14:53:41.175365Z"
    }
   },
   "id": "33b49e325f5781f1",
   "execution_count": 84
  },
  {
   "cell_type": "code",
   "outputs": [
    {
     "data": {
      "text/plain": "(541909, 8)"
     },
     "execution_count": 85,
     "metadata": {},
     "output_type": "execute_result"
    }
   ],
   "source": [
    "retail_df.shape"
   ],
   "metadata": {
    "collapsed": false,
    "ExecuteTime": {
     "end_time": "2023-12-28T14:53:41.629948Z",
     "start_time": "2023-12-28T14:53:41.605682Z"
    }
   },
   "id": "dbbebd23f49b8183",
   "execution_count": 85
  },
  {
   "cell_type": "code",
   "outputs": [
    {
     "name": "stdout",
     "output_type": "stream",
     "text": [
      "<class 'pandas.core.frame.DataFrame'>\n",
      "RangeIndex: 541909 entries, 0 to 541908\n",
      "Data columns (total 8 columns):\n",
      " #   Column       Non-Null Count   Dtype  \n",
      "---  ------       --------------   -----  \n",
      " 0   InvoiceNo    541909 non-null  object \n",
      " 1   StockCode    541909 non-null  object \n",
      " 2   Description  540455 non-null  object \n",
      " 3   Quantity     541909 non-null  int64  \n",
      " 4   InvoiceDate  541909 non-null  object \n",
      " 5   UnitPrice    541909 non-null  float64\n",
      " 6   CustomerID   406829 non-null  float64\n",
      " 7   Country      541909 non-null  object \n",
      "dtypes: float64(2), int64(1), object(5)\n",
      "memory usage: 33.1+ MB\n"
     ]
    }
   ],
   "source": [
    "retail_df.info()"
   ],
   "metadata": {
    "collapsed": false,
    "ExecuteTime": {
     "end_time": "2023-12-28T14:53:41.695471Z",
     "start_time": "2023-12-28T14:53:41.609865Z"
    }
   },
   "id": "88df373b61d271ce",
   "execution_count": 86
  },
  {
   "cell_type": "markdown",
   "source": [
    "## 2) Clean the Data"
   ],
   "metadata": {
    "collapsed": false
   },
   "id": "888dc7b446a2750b"
  },
  {
   "cell_type": "code",
   "outputs": [
    {
     "data": {
      "text/plain": "InvoiceNo       0.00\nStockCode       0.00\nDescription     0.27\nQuantity        0.00\nInvoiceDate     0.00\nUnitPrice       0.00\nCustomerID     24.93\nCountry         0.00\ndtype: float64"
     },
     "execution_count": 87,
     "metadata": {},
     "output_type": "execute_result"
    }
   ],
   "source": [
    "# missing values in each column by percentage\n",
    "round(retail_df.isnull().sum()/len(retail_df) * 100, 2)"
   ],
   "metadata": {
    "collapsed": false,
    "ExecuteTime": {
     "end_time": "2023-12-28T14:53:41.783918Z",
     "start_time": "2023-12-28T14:53:41.673400Z"
    }
   },
   "id": "c53a97d436d5c8bc",
   "execution_count": 87
  },
  {
   "cell_type": "code",
   "outputs": [],
   "source": [
    "# We cannot drop Customer ID as we cannot do Customer Segmentation\n",
    "# Drop all rows having missing values\n",
    "retail_df.dropna(inplace=True)"
   ],
   "metadata": {
    "collapsed": false,
    "ExecuteTime": {
     "end_time": "2023-12-28T14:53:41.808920Z",
     "start_time": "2023-12-28T14:53:41.727441Z"
    }
   },
   "id": "e43cdc6cf5104739",
   "execution_count": 88
  },
  {
   "cell_type": "code",
   "outputs": [
    {
     "data": {
      "text/plain": "InvoiceNo      0.0\nStockCode      0.0\nDescription    0.0\nQuantity       0.0\nInvoiceDate    0.0\nUnitPrice      0.0\nCustomerID     0.0\nCountry        0.0\ndtype: float64"
     },
     "execution_count": 89,
     "metadata": {},
     "output_type": "execute_result"
    }
   ],
   "source": [
    "round(retail_df.isnull().sum()/len(retail_df) * 100, 2)"
   ],
   "metadata": {
    "collapsed": false,
    "ExecuteTime": {
     "end_time": "2023-12-28T14:53:41.859586Z",
     "start_time": "2023-12-28T14:53:41.836507Z"
    }
   },
   "id": "c57443ace427aa60",
   "execution_count": 89
  },
  {
   "cell_type": "code",
   "outputs": [
    {
     "data": {
      "text/plain": "(406829, 8)"
     },
     "execution_count": 90,
     "metadata": {},
     "output_type": "execute_result"
    }
   ],
   "source": [
    "retail_df.shape"
   ],
   "metadata": {
    "collapsed": false,
    "ExecuteTime": {
     "end_time": "2023-12-28T14:53:41.861076Z",
     "start_time": "2023-12-28T14:53:41.845516Z"
    }
   },
   "id": "5c053ca250fb4dcc",
   "execution_count": 90
  },
  {
   "cell_type": "markdown",
   "source": [
    "## 3) Prepare the Data for Modelling"
   ],
   "metadata": {
    "collapsed": false
   },
   "id": "16330624e254dc0e"
  },
  {
   "cell_type": "markdown",
   "source": [
    "The Recency Frequency Monetary(RFM) Analysis\n",
    "1) Recency: Number of Days Since last purchase\n",
    "2) Frequency: Number of Transactions\n",
    "3) Monetary: Total amount of Transactions or Total Revenue Contributed by the customer"
   ],
   "metadata": {
    "collapsed": false
   },
   "id": "7e4e25ca7d2955ac"
  },
  {
   "cell_type": "markdown",
   "source": [
    "Hence we need three columns: Recency, Frequency, Monetary"
   ],
   "metadata": {
    "collapsed": false
   },
   "id": "80d8b5374e76ee0a"
  },
  {
   "cell_type": "code",
   "outputs": [],
   "source": [
    "retail_df[\"Monetary\"] = retail_df[\"Quantity\"] * retail_df[\"UnitPrice\"]"
   ],
   "metadata": {
    "collapsed": false,
    "ExecuteTime": {
     "end_time": "2023-12-28T14:53:41.909832Z",
     "start_time": "2023-12-28T14:53:41.852914Z"
    }
   },
   "id": "2068b5a923dbce7a",
   "execution_count": 91
  },
  {
   "cell_type": "code",
   "outputs": [
    {
     "data": {
      "text/plain": "       InvoiceNo StockCode                        Description  Quantity  \\\n322015    565219     23293  SET OF 12 FAIRY CAKE BAKING CASES        16   \n156266    550130     17003                BROCADE RING PURSE         36   \n365180    568699      POST                            POSTAGE         1   \n175094    551880     21621         VINTAGE UNION JACK BUNTING         2   \n141019    548496     22937    BAKING MOULD CHOCOLATE CUPCAKES        36   \n357261    568070     23088   ZINC HEART FLOWER T-LIGHT HOLDER        16   \n504259    578945     22469              HEART OF WICKER SMALL         1   \n326368    565519     23316               RED REFECTORY CLOCK          2   \n407282    571851     23187   FRENCH STYLE STORAGE JAR BONBONS        48   \n137391    548158     22115              METAL SIGN EMPIRE TEA         1   \n\n             InvoiceDate  UnitPrice  CustomerID         Country  Monetary  \n322015  01-09-2011 18:07       0.83     14420.0  United Kingdom     13.28  \n156266  14-04-2011 13:17       0.29     14390.0  United Kingdom     10.44  \n365180  28-09-2011 14:58      40.00     12352.0          Norway     40.00  \n175094  05-05-2011 09:05       8.50     17374.0  United Kingdom     17.00  \n141019  31-03-2011 13:40       2.55     12678.0          France     91.80  \n357261  23-09-2011 14:17       1.25     16128.0  United Kingdom     20.00  \n504259  27-11-2011 13:47       1.65     16877.0  United Kingdom      1.65  \n326368  05-09-2011 11:52       9.95     12502.0           Spain     19.90  \n407282  19-10-2011 13:02       0.29     12596.0           Spain     13.92  \n137391  29-03-2011 13:28       2.95     15906.0  United Kingdom      2.95  ",
      "text/html": "<div>\n<style scoped>\n    .dataframe tbody tr th:only-of-type {\n        vertical-align: middle;\n    }\n\n    .dataframe tbody tr th {\n        vertical-align: top;\n    }\n\n    .dataframe thead th {\n        text-align: right;\n    }\n</style>\n<table border=\"1\" class=\"dataframe\">\n  <thead>\n    <tr style=\"text-align: right;\">\n      <th></th>\n      <th>InvoiceNo</th>\n      <th>StockCode</th>\n      <th>Description</th>\n      <th>Quantity</th>\n      <th>InvoiceDate</th>\n      <th>UnitPrice</th>\n      <th>CustomerID</th>\n      <th>Country</th>\n      <th>Monetary</th>\n    </tr>\n  </thead>\n  <tbody>\n    <tr>\n      <th>322015</th>\n      <td>565219</td>\n      <td>23293</td>\n      <td>SET OF 12 FAIRY CAKE BAKING CASES</td>\n      <td>16</td>\n      <td>01-09-2011 18:07</td>\n      <td>0.83</td>\n      <td>14420.0</td>\n      <td>United Kingdom</td>\n      <td>13.28</td>\n    </tr>\n    <tr>\n      <th>156266</th>\n      <td>550130</td>\n      <td>17003</td>\n      <td>BROCADE RING PURSE</td>\n      <td>36</td>\n      <td>14-04-2011 13:17</td>\n      <td>0.29</td>\n      <td>14390.0</td>\n      <td>United Kingdom</td>\n      <td>10.44</td>\n    </tr>\n    <tr>\n      <th>365180</th>\n      <td>568699</td>\n      <td>POST</td>\n      <td>POSTAGE</td>\n      <td>1</td>\n      <td>28-09-2011 14:58</td>\n      <td>40.00</td>\n      <td>12352.0</td>\n      <td>Norway</td>\n      <td>40.00</td>\n    </tr>\n    <tr>\n      <th>175094</th>\n      <td>551880</td>\n      <td>21621</td>\n      <td>VINTAGE UNION JACK BUNTING</td>\n      <td>2</td>\n      <td>05-05-2011 09:05</td>\n      <td>8.50</td>\n      <td>17374.0</td>\n      <td>United Kingdom</td>\n      <td>17.00</td>\n    </tr>\n    <tr>\n      <th>141019</th>\n      <td>548496</td>\n      <td>22937</td>\n      <td>BAKING MOULD CHOCOLATE CUPCAKES</td>\n      <td>36</td>\n      <td>31-03-2011 13:40</td>\n      <td>2.55</td>\n      <td>12678.0</td>\n      <td>France</td>\n      <td>91.80</td>\n    </tr>\n    <tr>\n      <th>357261</th>\n      <td>568070</td>\n      <td>23088</td>\n      <td>ZINC HEART FLOWER T-LIGHT HOLDER</td>\n      <td>16</td>\n      <td>23-09-2011 14:17</td>\n      <td>1.25</td>\n      <td>16128.0</td>\n      <td>United Kingdom</td>\n      <td>20.00</td>\n    </tr>\n    <tr>\n      <th>504259</th>\n      <td>578945</td>\n      <td>22469</td>\n      <td>HEART OF WICKER SMALL</td>\n      <td>1</td>\n      <td>27-11-2011 13:47</td>\n      <td>1.65</td>\n      <td>16877.0</td>\n      <td>United Kingdom</td>\n      <td>1.65</td>\n    </tr>\n    <tr>\n      <th>326368</th>\n      <td>565519</td>\n      <td>23316</td>\n      <td>RED REFECTORY CLOCK</td>\n      <td>2</td>\n      <td>05-09-2011 11:52</td>\n      <td>9.95</td>\n      <td>12502.0</td>\n      <td>Spain</td>\n      <td>19.90</td>\n    </tr>\n    <tr>\n      <th>407282</th>\n      <td>571851</td>\n      <td>23187</td>\n      <td>FRENCH STYLE STORAGE JAR BONBONS</td>\n      <td>48</td>\n      <td>19-10-2011 13:02</td>\n      <td>0.29</td>\n      <td>12596.0</td>\n      <td>Spain</td>\n      <td>13.92</td>\n    </tr>\n    <tr>\n      <th>137391</th>\n      <td>548158</td>\n      <td>22115</td>\n      <td>METAL SIGN EMPIRE TEA</td>\n      <td>1</td>\n      <td>29-03-2011 13:28</td>\n      <td>2.95</td>\n      <td>15906.0</td>\n      <td>United Kingdom</td>\n      <td>2.95</td>\n    </tr>\n  </tbody>\n</table>\n</div>"
     },
     "execution_count": 92,
     "metadata": {},
     "output_type": "execute_result"
    }
   ],
   "source": [
    "retail_df.sample(10)"
   ],
   "metadata": {
    "collapsed": false,
    "ExecuteTime": {
     "end_time": "2023-12-28T14:53:41.933315Z",
     "start_time": "2023-12-28T14:53:41.871588Z"
    }
   },
   "id": "9f270f5874e9519f",
   "execution_count": 92
  },
  {
   "cell_type": "code",
   "outputs": [],
   "source": [
    "retail_df.rename({\"Monetary\": \"Amount\"}, axis=1, inplace=True)"
   ],
   "metadata": {
    "collapsed": false,
    "ExecuteTime": {
     "end_time": "2023-12-28T14:53:41.936178Z",
     "start_time": "2023-12-28T14:53:41.877873Z"
    }
   },
   "id": "33f4b346a9226594",
   "execution_count": 93
  },
  {
   "cell_type": "code",
   "outputs": [
    {
     "data": {
      "text/plain": "  InvoiceNo StockCode                          Description  Quantity  \\\n0    536365    85123A   WHITE HANGING HEART T-LIGHT HOLDER         6   \n1    536365     71053                  WHITE METAL LANTERN         6   \n2    536365    84406B       CREAM CUPID HEARTS COAT HANGER         8   \n3    536365    84029G  KNITTED UNION FLAG HOT WATER BOTTLE         6   \n4    536365    84029E       RED WOOLLY HOTTIE WHITE HEART.         6   \n\n        InvoiceDate  UnitPrice  CustomerID         Country  Amount  \n0  01-12-2010 08:26       2.55     17850.0  United Kingdom   15.30  \n1  01-12-2010 08:26       3.39     17850.0  United Kingdom   20.34  \n2  01-12-2010 08:26       2.75     17850.0  United Kingdom   22.00  \n3  01-12-2010 08:26       3.39     17850.0  United Kingdom   20.34  \n4  01-12-2010 08:26       3.39     17850.0  United Kingdom   20.34  ",
      "text/html": "<div>\n<style scoped>\n    .dataframe tbody tr th:only-of-type {\n        vertical-align: middle;\n    }\n\n    .dataframe tbody tr th {\n        vertical-align: top;\n    }\n\n    .dataframe thead th {\n        text-align: right;\n    }\n</style>\n<table border=\"1\" class=\"dataframe\">\n  <thead>\n    <tr style=\"text-align: right;\">\n      <th></th>\n      <th>InvoiceNo</th>\n      <th>StockCode</th>\n      <th>Description</th>\n      <th>Quantity</th>\n      <th>InvoiceDate</th>\n      <th>UnitPrice</th>\n      <th>CustomerID</th>\n      <th>Country</th>\n      <th>Amount</th>\n    </tr>\n  </thead>\n  <tbody>\n    <tr>\n      <th>0</th>\n      <td>536365</td>\n      <td>85123A</td>\n      <td>WHITE HANGING HEART T-LIGHT HOLDER</td>\n      <td>6</td>\n      <td>01-12-2010 08:26</td>\n      <td>2.55</td>\n      <td>17850.0</td>\n      <td>United Kingdom</td>\n      <td>15.30</td>\n    </tr>\n    <tr>\n      <th>1</th>\n      <td>536365</td>\n      <td>71053</td>\n      <td>WHITE METAL LANTERN</td>\n      <td>6</td>\n      <td>01-12-2010 08:26</td>\n      <td>3.39</td>\n      <td>17850.0</td>\n      <td>United Kingdom</td>\n      <td>20.34</td>\n    </tr>\n    <tr>\n      <th>2</th>\n      <td>536365</td>\n      <td>84406B</td>\n      <td>CREAM CUPID HEARTS COAT HANGER</td>\n      <td>8</td>\n      <td>01-12-2010 08:26</td>\n      <td>2.75</td>\n      <td>17850.0</td>\n      <td>United Kingdom</td>\n      <td>22.00</td>\n    </tr>\n    <tr>\n      <th>3</th>\n      <td>536365</td>\n      <td>84029G</td>\n      <td>KNITTED UNION FLAG HOT WATER BOTTLE</td>\n      <td>6</td>\n      <td>01-12-2010 08:26</td>\n      <td>3.39</td>\n      <td>17850.0</td>\n      <td>United Kingdom</td>\n      <td>20.34</td>\n    </tr>\n    <tr>\n      <th>4</th>\n      <td>536365</td>\n      <td>84029E</td>\n      <td>RED WOOLLY HOTTIE WHITE HEART.</td>\n      <td>6</td>\n      <td>01-12-2010 08:26</td>\n      <td>3.39</td>\n      <td>17850.0</td>\n      <td>United Kingdom</td>\n      <td>20.34</td>\n    </tr>\n  </tbody>\n</table>\n</div>"
     },
     "execution_count": 94,
     "metadata": {},
     "output_type": "execute_result"
    }
   ],
   "source": [
    "retail_df.head()"
   ],
   "metadata": {
    "collapsed": false,
    "ExecuteTime": {
     "end_time": "2023-12-28T14:53:41.936649Z",
     "start_time": "2023-12-28T14:53:41.880837Z"
    }
   },
   "id": "50bd386e25661f8b",
   "execution_count": 94
  },
  {
   "cell_type": "code",
   "outputs": [
    {
     "data": {
      "text/plain": "   CustomerID   Amount\n0     12346.0     0.00\n1     12347.0  4310.00\n2     12348.0  1797.24\n3     12349.0  1757.55\n4     12350.0   334.40",
      "text/html": "<div>\n<style scoped>\n    .dataframe tbody tr th:only-of-type {\n        vertical-align: middle;\n    }\n\n    .dataframe tbody tr th {\n        vertical-align: top;\n    }\n\n    .dataframe thead th {\n        text-align: right;\n    }\n</style>\n<table border=\"1\" class=\"dataframe\">\n  <thead>\n    <tr style=\"text-align: right;\">\n      <th></th>\n      <th>CustomerID</th>\n      <th>Amount</th>\n    </tr>\n  </thead>\n  <tbody>\n    <tr>\n      <th>0</th>\n      <td>12346.0</td>\n      <td>0.00</td>\n    </tr>\n    <tr>\n      <th>1</th>\n      <td>12347.0</td>\n      <td>4310.00</td>\n    </tr>\n    <tr>\n      <th>2</th>\n      <td>12348.0</td>\n      <td>1797.24</td>\n    </tr>\n    <tr>\n      <th>3</th>\n      <td>12349.0</td>\n      <td>1757.55</td>\n    </tr>\n    <tr>\n      <th>4</th>\n      <td>12350.0</td>\n      <td>334.40</td>\n    </tr>\n  </tbody>\n</table>\n</div>"
     },
     "execution_count": 95,
     "metadata": {},
     "output_type": "execute_result"
    }
   ],
   "source": [
    "grouped_df = retail_df.groupby(by=\"CustomerID\", as_index=False).aggregate({\"Amount\": pd.Series.sum})\n",
    "grouped_df.head()"
   ],
   "metadata": {
    "collapsed": false,
    "ExecuteTime": {
     "end_time": "2023-12-28T14:53:42.033949Z",
     "start_time": "2023-12-28T14:53:41.889118Z"
    }
   },
   "id": "1f7533bb14a1998b",
   "execution_count": 95
  },
  {
   "cell_type": "code",
   "outputs": [],
   "source": [
    "# For making a new column for frequency we need to count the number of invoices\n",
    "Frequency = retail_df.groupby(by=\"CustomerID\", as_index=False).aggregate({\"InvoiceNo\": pd.Series.count})\n",
    "Frequency.columns = [\"CustomerID\", \"Frequency\"]"
   ],
   "metadata": {
    "collapsed": false,
    "ExecuteTime": {
     "end_time": "2023-12-28T14:53:42.135870Z",
     "start_time": "2023-12-28T14:53:41.969115Z"
    }
   },
   "id": "bd7cc0e8bbf7dad7",
   "execution_count": 96
  },
  {
   "cell_type": "code",
   "outputs": [
    {
     "data": {
      "text/plain": "   CustomerID  Frequency\n0     12346.0          2\n1     12347.0        182\n2     12348.0         31\n3     12349.0         73\n4     12350.0         17",
      "text/html": "<div>\n<style scoped>\n    .dataframe tbody tr th:only-of-type {\n        vertical-align: middle;\n    }\n\n    .dataframe tbody tr th {\n        vertical-align: top;\n    }\n\n    .dataframe thead th {\n        text-align: right;\n    }\n</style>\n<table border=\"1\" class=\"dataframe\">\n  <thead>\n    <tr style=\"text-align: right;\">\n      <th></th>\n      <th>CustomerID</th>\n      <th>Frequency</th>\n    </tr>\n  </thead>\n  <tbody>\n    <tr>\n      <th>0</th>\n      <td>12346.0</td>\n      <td>2</td>\n    </tr>\n    <tr>\n      <th>1</th>\n      <td>12347.0</td>\n      <td>182</td>\n    </tr>\n    <tr>\n      <th>2</th>\n      <td>12348.0</td>\n      <td>31</td>\n    </tr>\n    <tr>\n      <th>3</th>\n      <td>12349.0</td>\n      <td>73</td>\n    </tr>\n    <tr>\n      <th>4</th>\n      <td>12350.0</td>\n      <td>17</td>\n    </tr>\n  </tbody>\n</table>\n</div>"
     },
     "execution_count": 97,
     "metadata": {},
     "output_type": "execute_result"
    }
   ],
   "source": [
    "Frequency.head()"
   ],
   "metadata": {
    "collapsed": false,
    "ExecuteTime": {
     "end_time": "2023-12-28T14:53:42.137790Z",
     "start_time": "2023-12-28T14:53:42.048943Z"
    }
   },
   "id": "bcfb269b5b0ec096",
   "execution_count": 97
  },
  {
   "cell_type": "code",
   "outputs": [
    {
     "data": {
      "text/plain": "   CustomerID   Amount  Frequency\n0     12346.0     0.00          2\n1     12347.0  4310.00        182\n2     12348.0  1797.24         31\n3     12349.0  1757.55         73\n4     12350.0   334.40         17",
      "text/html": "<div>\n<style scoped>\n    .dataframe tbody tr th:only-of-type {\n        vertical-align: middle;\n    }\n\n    .dataframe tbody tr th {\n        vertical-align: top;\n    }\n\n    .dataframe thead th {\n        text-align: right;\n    }\n</style>\n<table border=\"1\" class=\"dataframe\">\n  <thead>\n    <tr style=\"text-align: right;\">\n      <th></th>\n      <th>CustomerID</th>\n      <th>Amount</th>\n      <th>Frequency</th>\n    </tr>\n  </thead>\n  <tbody>\n    <tr>\n      <th>0</th>\n      <td>12346.0</td>\n      <td>0.00</td>\n      <td>2</td>\n    </tr>\n    <tr>\n      <th>1</th>\n      <td>12347.0</td>\n      <td>4310.00</td>\n      <td>182</td>\n    </tr>\n    <tr>\n      <th>2</th>\n      <td>12348.0</td>\n      <td>1797.24</td>\n      <td>31</td>\n    </tr>\n    <tr>\n      <th>3</th>\n      <td>12349.0</td>\n      <td>1757.55</td>\n      <td>73</td>\n    </tr>\n    <tr>\n      <th>4</th>\n      <td>12350.0</td>\n      <td>334.40</td>\n      <td>17</td>\n    </tr>\n  </tbody>\n</table>\n</div>"
     },
     "execution_count": 98,
     "metadata": {},
     "output_type": "execute_result"
    }
   ],
   "source": [
    "grouped_df = pd.merge(grouped_df, Frequency, how=\"inner\", on=\"CustomerID\")\n",
    "grouped_df.head()"
   ],
   "metadata": {
    "collapsed": false,
    "ExecuteTime": {
     "end_time": "2023-12-28T14:53:42.139446Z",
     "start_time": "2023-12-28T14:53:42.053735Z"
    }
   },
   "id": "cd627ec6c80514e",
   "execution_count": 98
  },
  {
   "cell_type": "code",
   "outputs": [
    {
     "data": {
      "text/plain": "  InvoiceNo StockCode                          Description  Quantity  \\\n0    536365    85123A   WHITE HANGING HEART T-LIGHT HOLDER         6   \n1    536365     71053                  WHITE METAL LANTERN         6   \n2    536365    84406B       CREAM CUPID HEARTS COAT HANGER         8   \n3    536365    84029G  KNITTED UNION FLAG HOT WATER BOTTLE         6   \n4    536365    84029E       RED WOOLLY HOTTIE WHITE HEART.         6   \n\n        InvoiceDate  UnitPrice  CustomerID         Country  Amount  \n0  01-12-2010 08:26       2.55     17850.0  United Kingdom   15.30  \n1  01-12-2010 08:26       3.39     17850.0  United Kingdom   20.34  \n2  01-12-2010 08:26       2.75     17850.0  United Kingdom   22.00  \n3  01-12-2010 08:26       3.39     17850.0  United Kingdom   20.34  \n4  01-12-2010 08:26       3.39     17850.0  United Kingdom   20.34  ",
      "text/html": "<div>\n<style scoped>\n    .dataframe tbody tr th:only-of-type {\n        vertical-align: middle;\n    }\n\n    .dataframe tbody tr th {\n        vertical-align: top;\n    }\n\n    .dataframe thead th {\n        text-align: right;\n    }\n</style>\n<table border=\"1\" class=\"dataframe\">\n  <thead>\n    <tr style=\"text-align: right;\">\n      <th></th>\n      <th>InvoiceNo</th>\n      <th>StockCode</th>\n      <th>Description</th>\n      <th>Quantity</th>\n      <th>InvoiceDate</th>\n      <th>UnitPrice</th>\n      <th>CustomerID</th>\n      <th>Country</th>\n      <th>Amount</th>\n    </tr>\n  </thead>\n  <tbody>\n    <tr>\n      <th>0</th>\n      <td>536365</td>\n      <td>85123A</td>\n      <td>WHITE HANGING HEART T-LIGHT HOLDER</td>\n      <td>6</td>\n      <td>01-12-2010 08:26</td>\n      <td>2.55</td>\n      <td>17850.0</td>\n      <td>United Kingdom</td>\n      <td>15.30</td>\n    </tr>\n    <tr>\n      <th>1</th>\n      <td>536365</td>\n      <td>71053</td>\n      <td>WHITE METAL LANTERN</td>\n      <td>6</td>\n      <td>01-12-2010 08:26</td>\n      <td>3.39</td>\n      <td>17850.0</td>\n      <td>United Kingdom</td>\n      <td>20.34</td>\n    </tr>\n    <tr>\n      <th>2</th>\n      <td>536365</td>\n      <td>84406B</td>\n      <td>CREAM CUPID HEARTS COAT HANGER</td>\n      <td>8</td>\n      <td>01-12-2010 08:26</td>\n      <td>2.75</td>\n      <td>17850.0</td>\n      <td>United Kingdom</td>\n      <td>22.00</td>\n    </tr>\n    <tr>\n      <th>3</th>\n      <td>536365</td>\n      <td>84029G</td>\n      <td>KNITTED UNION FLAG HOT WATER BOTTLE</td>\n      <td>6</td>\n      <td>01-12-2010 08:26</td>\n      <td>3.39</td>\n      <td>17850.0</td>\n      <td>United Kingdom</td>\n      <td>20.34</td>\n    </tr>\n    <tr>\n      <th>4</th>\n      <td>536365</td>\n      <td>84029E</td>\n      <td>RED WOOLLY HOTTIE WHITE HEART.</td>\n      <td>6</td>\n      <td>01-12-2010 08:26</td>\n      <td>3.39</td>\n      <td>17850.0</td>\n      <td>United Kingdom</td>\n      <td>20.34</td>\n    </tr>\n  </tbody>\n</table>\n</div>"
     },
     "execution_count": 99,
     "metadata": {},
     "output_type": "execute_result"
    }
   ],
   "source": [
    "# recency \n",
    "retail_df.head()"
   ],
   "metadata": {
    "collapsed": false,
    "ExecuteTime": {
     "end_time": "2023-12-28T14:53:42.150769Z",
     "start_time": "2023-12-28T14:53:42.064708Z"
    }
   },
   "id": "2b7e1f7738fc3606",
   "execution_count": 99
  },
  {
   "cell_type": "code",
   "outputs": [
    {
     "name": "stdout",
     "output_type": "stream",
     "text": [
      "<class 'pandas.core.frame.DataFrame'>\n",
      "Index: 406829 entries, 0 to 541908\n",
      "Data columns (total 9 columns):\n",
      " #   Column       Non-Null Count   Dtype  \n",
      "---  ------       --------------   -----  \n",
      " 0   InvoiceNo    406829 non-null  object \n",
      " 1   StockCode    406829 non-null  object \n",
      " 2   Description  406829 non-null  object \n",
      " 3   Quantity     406829 non-null  int64  \n",
      " 4   InvoiceDate  406829 non-null  object \n",
      " 5   UnitPrice    406829 non-null  float64\n",
      " 6   CustomerID   406829 non-null  float64\n",
      " 7   Country      406829 non-null  object \n",
      " 8   Amount       406829 non-null  float64\n",
      "dtypes: float64(3), int64(1), object(5)\n",
      "memory usage: 31.0+ MB\n"
     ]
    }
   ],
   "source": [
    "retail_df.info()"
   ],
   "metadata": {
    "collapsed": false,
    "ExecuteTime": {
     "end_time": "2023-12-28T14:53:42.176457Z",
     "start_time": "2023-12-28T14:53:42.066905Z"
    }
   },
   "id": "15e7f95813f400f0",
   "execution_count": 100
  },
  {
   "cell_type": "code",
   "outputs": [
    {
     "data": {
      "text/plain": "  InvoiceNo StockCode                          Description  Quantity  \\\n0    536365    85123A   WHITE HANGING HEART T-LIGHT HOLDER         6   \n1    536365     71053                  WHITE METAL LANTERN         6   \n2    536365    84406B       CREAM CUPID HEARTS COAT HANGER         8   \n3    536365    84029G  KNITTED UNION FLAG HOT WATER BOTTLE         6   \n4    536365    84029E       RED WOOLLY HOTTIE WHITE HEART.         6   \n\n          InvoiceDate  UnitPrice  CustomerID         Country  Amount  \n0 2010-12-01 08:26:00       2.55     17850.0  United Kingdom   15.30  \n1 2010-12-01 08:26:00       3.39     17850.0  United Kingdom   20.34  \n2 2010-12-01 08:26:00       2.75     17850.0  United Kingdom   22.00  \n3 2010-12-01 08:26:00       3.39     17850.0  United Kingdom   20.34  \n4 2010-12-01 08:26:00       3.39     17850.0  United Kingdom   20.34  ",
      "text/html": "<div>\n<style scoped>\n    .dataframe tbody tr th:only-of-type {\n        vertical-align: middle;\n    }\n\n    .dataframe tbody tr th {\n        vertical-align: top;\n    }\n\n    .dataframe thead th {\n        text-align: right;\n    }\n</style>\n<table border=\"1\" class=\"dataframe\">\n  <thead>\n    <tr style=\"text-align: right;\">\n      <th></th>\n      <th>InvoiceNo</th>\n      <th>StockCode</th>\n      <th>Description</th>\n      <th>Quantity</th>\n      <th>InvoiceDate</th>\n      <th>UnitPrice</th>\n      <th>CustomerID</th>\n      <th>Country</th>\n      <th>Amount</th>\n    </tr>\n  </thead>\n  <tbody>\n    <tr>\n      <th>0</th>\n      <td>536365</td>\n      <td>85123A</td>\n      <td>WHITE HANGING HEART T-LIGHT HOLDER</td>\n      <td>6</td>\n      <td>2010-12-01 08:26:00</td>\n      <td>2.55</td>\n      <td>17850.0</td>\n      <td>United Kingdom</td>\n      <td>15.30</td>\n    </tr>\n    <tr>\n      <th>1</th>\n      <td>536365</td>\n      <td>71053</td>\n      <td>WHITE METAL LANTERN</td>\n      <td>6</td>\n      <td>2010-12-01 08:26:00</td>\n      <td>3.39</td>\n      <td>17850.0</td>\n      <td>United Kingdom</td>\n      <td>20.34</td>\n    </tr>\n    <tr>\n      <th>2</th>\n      <td>536365</td>\n      <td>84406B</td>\n      <td>CREAM CUPID HEARTS COAT HANGER</td>\n      <td>8</td>\n      <td>2010-12-01 08:26:00</td>\n      <td>2.75</td>\n      <td>17850.0</td>\n      <td>United Kingdom</td>\n      <td>22.00</td>\n    </tr>\n    <tr>\n      <th>3</th>\n      <td>536365</td>\n      <td>84029G</td>\n      <td>KNITTED UNION FLAG HOT WATER BOTTLE</td>\n      <td>6</td>\n      <td>2010-12-01 08:26:00</td>\n      <td>3.39</td>\n      <td>17850.0</td>\n      <td>United Kingdom</td>\n      <td>20.34</td>\n    </tr>\n    <tr>\n      <th>4</th>\n      <td>536365</td>\n      <td>84029E</td>\n      <td>RED WOOLLY HOTTIE WHITE HEART.</td>\n      <td>6</td>\n      <td>2010-12-01 08:26:00</td>\n      <td>3.39</td>\n      <td>17850.0</td>\n      <td>United Kingdom</td>\n      <td>20.34</td>\n    </tr>\n  </tbody>\n</table>\n</div>"
     },
     "execution_count": 101,
     "metadata": {},
     "output_type": "execute_result"
    }
   ],
   "source": [
    "# using to_datetime \n",
    "retail_df[\"InvoiceDate\"] = pd.to_datetime(retail_df[\"InvoiceDate\"], format=\"%d-%m-%Y %H:%M\")\n",
    "retail_df.head()"
   ],
   "metadata": {
    "collapsed": false,
    "ExecuteTime": {
     "end_time": "2023-12-28T14:53:42.281376Z",
     "start_time": "2023-12-28T14:53:42.117213Z"
    }
   },
   "id": "e484633ff7c1101b",
   "execution_count": 101
  },
  {
   "cell_type": "code",
   "outputs": [
    {
     "name": "stdout",
     "output_type": "stream",
     "text": [
      "<class 'pandas.core.frame.DataFrame'>\n",
      "Index: 406829 entries, 0 to 541908\n",
      "Data columns (total 9 columns):\n",
      " #   Column       Non-Null Count   Dtype         \n",
      "---  ------       --------------   -----         \n",
      " 0   InvoiceNo    406829 non-null  object        \n",
      " 1   StockCode    406829 non-null  object        \n",
      " 2   Description  406829 non-null  object        \n",
      " 3   Quantity     406829 non-null  int64         \n",
      " 4   InvoiceDate  406829 non-null  datetime64[ns]\n",
      " 5   UnitPrice    406829 non-null  float64       \n",
      " 6   CustomerID   406829 non-null  float64       \n",
      " 7   Country      406829 non-null  object        \n",
      " 8   Amount       406829 non-null  float64       \n",
      "dtypes: datetime64[ns](1), float64(3), int64(1), object(4)\n",
      "memory usage: 31.0+ MB\n"
     ]
    }
   ],
   "source": [
    "retail_df.info()"
   ],
   "metadata": {
    "collapsed": false,
    "ExecuteTime": {
     "end_time": "2023-12-28T14:53:42.327113Z",
     "start_time": "2023-12-28T14:53:42.167834Z"
    }
   },
   "id": "95b129c06c04de9b",
   "execution_count": 102
  },
  {
   "cell_type": "code",
   "outputs": [],
   "source": [
    "# compute the max date\n",
    "max_date = retail_df[\"InvoiceDate\"].max()"
   ],
   "metadata": {
    "collapsed": false,
    "ExecuteTime": {
     "end_time": "2023-12-28T14:53:42.328563Z",
     "start_time": "2023-12-28T14:53:42.205966Z"
    }
   },
   "id": "2dc2e766e70398b2",
   "execution_count": 103
  },
  {
   "cell_type": "code",
   "outputs": [
    {
     "data": {
      "text/plain": "Timestamp('2011-12-09 12:50:00')"
     },
     "execution_count": 104,
     "metadata": {},
     "output_type": "execute_result"
    }
   ],
   "source": [
    "max_date"
   ],
   "metadata": {
    "collapsed": false,
    "ExecuteTime": {
     "end_time": "2023-12-28T14:53:42.339241Z",
     "start_time": "2023-12-28T14:53:42.208746Z"
    }
   },
   "id": "72c20d4bd1dcf909",
   "execution_count": 104
  },
  {
   "cell_type": "code",
   "outputs": [
    {
     "data": {
      "text/plain": "  InvoiceNo StockCode                          Description  Quantity  \\\n0    536365    85123A   WHITE HANGING HEART T-LIGHT HOLDER         6   \n1    536365     71053                  WHITE METAL LANTERN         6   \n2    536365    84406B       CREAM CUPID HEARTS COAT HANGER         8   \n3    536365    84029G  KNITTED UNION FLAG HOT WATER BOTTLE         6   \n4    536365    84029E       RED WOOLLY HOTTIE WHITE HEART.         6   \n\n          InvoiceDate  UnitPrice  CustomerID         Country  Amount  \\\n0 2010-12-01 08:26:00       2.55     17850.0  United Kingdom   15.30   \n1 2010-12-01 08:26:00       3.39     17850.0  United Kingdom   20.34   \n2 2010-12-01 08:26:00       2.75     17850.0  United Kingdom   22.00   \n3 2010-12-01 08:26:00       3.39     17850.0  United Kingdom   20.34   \n4 2010-12-01 08:26:00       3.39     17850.0  United Kingdom   20.34   \n\n               diff  \n0 373 days 04:24:00  \n1 373 days 04:24:00  \n2 373 days 04:24:00  \n3 373 days 04:24:00  \n4 373 days 04:24:00  ",
      "text/html": "<div>\n<style scoped>\n    .dataframe tbody tr th:only-of-type {\n        vertical-align: middle;\n    }\n\n    .dataframe tbody tr th {\n        vertical-align: top;\n    }\n\n    .dataframe thead th {\n        text-align: right;\n    }\n</style>\n<table border=\"1\" class=\"dataframe\">\n  <thead>\n    <tr style=\"text-align: right;\">\n      <th></th>\n      <th>InvoiceNo</th>\n      <th>StockCode</th>\n      <th>Description</th>\n      <th>Quantity</th>\n      <th>InvoiceDate</th>\n      <th>UnitPrice</th>\n      <th>CustomerID</th>\n      <th>Country</th>\n      <th>Amount</th>\n      <th>diff</th>\n    </tr>\n  </thead>\n  <tbody>\n    <tr>\n      <th>0</th>\n      <td>536365</td>\n      <td>85123A</td>\n      <td>WHITE HANGING HEART T-LIGHT HOLDER</td>\n      <td>6</td>\n      <td>2010-12-01 08:26:00</td>\n      <td>2.55</td>\n      <td>17850.0</td>\n      <td>United Kingdom</td>\n      <td>15.30</td>\n      <td>373 days 04:24:00</td>\n    </tr>\n    <tr>\n      <th>1</th>\n      <td>536365</td>\n      <td>71053</td>\n      <td>WHITE METAL LANTERN</td>\n      <td>6</td>\n      <td>2010-12-01 08:26:00</td>\n      <td>3.39</td>\n      <td>17850.0</td>\n      <td>United Kingdom</td>\n      <td>20.34</td>\n      <td>373 days 04:24:00</td>\n    </tr>\n    <tr>\n      <th>2</th>\n      <td>536365</td>\n      <td>84406B</td>\n      <td>CREAM CUPID HEARTS COAT HANGER</td>\n      <td>8</td>\n      <td>2010-12-01 08:26:00</td>\n      <td>2.75</td>\n      <td>17850.0</td>\n      <td>United Kingdom</td>\n      <td>22.00</td>\n      <td>373 days 04:24:00</td>\n    </tr>\n    <tr>\n      <th>3</th>\n      <td>536365</td>\n      <td>84029G</td>\n      <td>KNITTED UNION FLAG HOT WATER BOTTLE</td>\n      <td>6</td>\n      <td>2010-12-01 08:26:00</td>\n      <td>3.39</td>\n      <td>17850.0</td>\n      <td>United Kingdom</td>\n      <td>20.34</td>\n      <td>373 days 04:24:00</td>\n    </tr>\n    <tr>\n      <th>4</th>\n      <td>536365</td>\n      <td>84029E</td>\n      <td>RED WOOLLY HOTTIE WHITE HEART.</td>\n      <td>6</td>\n      <td>2010-12-01 08:26:00</td>\n      <td>3.39</td>\n      <td>17850.0</td>\n      <td>United Kingdom</td>\n      <td>20.34</td>\n      <td>373 days 04:24:00</td>\n    </tr>\n  </tbody>\n</table>\n</div>"
     },
     "execution_count": 105,
     "metadata": {},
     "output_type": "execute_result"
    }
   ],
   "source": [
    "# computing the difference between each transaction and this date\n",
    "retail_df[\"diff\"] = max_date - retail_df[\"InvoiceDate\"]\n",
    "retail_df.head()"
   ],
   "metadata": {
    "collapsed": false,
    "ExecuteTime": {
     "end_time": "2023-12-28T14:53:42.341150Z",
     "start_time": "2023-12-28T14:53:42.213159Z"
    }
   },
   "id": "a0b97cb36edf1d5b",
   "execution_count": 105
  },
  {
   "cell_type": "code",
   "outputs": [
    {
     "data": {
      "text/plain": "   CustomerID              diff\n0     12346.0 325 days 02:33:00\n1     12347.0   1 days 20:58:00\n2     12348.0  74 days 23:37:00\n3     12349.0  18 days 02:59:00\n4     12350.0 309 days 20:49:00",
      "text/html": "<div>\n<style scoped>\n    .dataframe tbody tr th:only-of-type {\n        vertical-align: middle;\n    }\n\n    .dataframe tbody tr th {\n        vertical-align: top;\n    }\n\n    .dataframe thead th {\n        text-align: right;\n    }\n</style>\n<table border=\"1\" class=\"dataframe\">\n  <thead>\n    <tr style=\"text-align: right;\">\n      <th></th>\n      <th>CustomerID</th>\n      <th>diff</th>\n    </tr>\n  </thead>\n  <tbody>\n    <tr>\n      <th>0</th>\n      <td>12346.0</td>\n      <td>325 days 02:33:00</td>\n    </tr>\n    <tr>\n      <th>1</th>\n      <td>12347.0</td>\n      <td>1 days 20:58:00</td>\n    </tr>\n    <tr>\n      <th>2</th>\n      <td>12348.0</td>\n      <td>74 days 23:37:00</td>\n    </tr>\n    <tr>\n      <th>3</th>\n      <td>12349.0</td>\n      <td>18 days 02:59:00</td>\n    </tr>\n    <tr>\n      <th>4</th>\n      <td>12350.0</td>\n      <td>309 days 20:49:00</td>\n    </tr>\n  </tbody>\n</table>\n</div>"
     },
     "execution_count": 106,
     "metadata": {},
     "output_type": "execute_result"
    }
   ],
   "source": [
    "# Creating the Recency column\n",
    "last_purchase = retail_df.groupby(by=\"CustomerID\", as_index=False).aggregate({\"diff\": pd.Series.min})\n",
    "last_purchase.head()"
   ],
   "metadata": {
    "collapsed": false,
    "ExecuteTime": {
     "end_time": "2023-12-28T14:53:42.434460Z",
     "start_time": "2023-12-28T14:53:42.223296Z"
    }
   },
   "id": "631935d6de1a682e",
   "execution_count": 106
  },
  {
   "cell_type": "code",
   "outputs": [
    {
     "data": {
      "text/plain": "   CustomerID   Amount  Frequency           Recency\n0     12346.0     0.00          2 325 days 02:33:00\n1     12347.0  4310.00        182   1 days 20:58:00\n2     12348.0  1797.24         31  74 days 23:37:00\n3     12349.0  1757.55         73  18 days 02:59:00\n4     12350.0   334.40         17 309 days 20:49:00",
      "text/html": "<div>\n<style scoped>\n    .dataframe tbody tr th:only-of-type {\n        vertical-align: middle;\n    }\n\n    .dataframe tbody tr th {\n        vertical-align: top;\n    }\n\n    .dataframe thead th {\n        text-align: right;\n    }\n</style>\n<table border=\"1\" class=\"dataframe\">\n  <thead>\n    <tr style=\"text-align: right;\">\n      <th></th>\n      <th>CustomerID</th>\n      <th>Amount</th>\n      <th>Frequency</th>\n      <th>Recency</th>\n    </tr>\n  </thead>\n  <tbody>\n    <tr>\n      <th>0</th>\n      <td>12346.0</td>\n      <td>0.00</td>\n      <td>2</td>\n      <td>325 days 02:33:00</td>\n    </tr>\n    <tr>\n      <th>1</th>\n      <td>12347.0</td>\n      <td>4310.00</td>\n      <td>182</td>\n      <td>1 days 20:58:00</td>\n    </tr>\n    <tr>\n      <th>2</th>\n      <td>12348.0</td>\n      <td>1797.24</td>\n      <td>31</td>\n      <td>74 days 23:37:00</td>\n    </tr>\n    <tr>\n      <th>3</th>\n      <td>12349.0</td>\n      <td>1757.55</td>\n      <td>73</td>\n      <td>18 days 02:59:00</td>\n    </tr>\n    <tr>\n      <th>4</th>\n      <td>12350.0</td>\n      <td>334.40</td>\n      <td>17</td>\n      <td>309 days 20:49:00</td>\n    </tr>\n  </tbody>\n</table>\n</div>"
     },
     "execution_count": 107,
     "metadata": {},
     "output_type": "execute_result"
    }
   ],
   "source": [
    "# Merging\n",
    "grouped_df = pd.merge(grouped_df, last_purchase, on=\"CustomerID\", how=\"inner\")\n",
    "grouped_df.columns = [\"CustomerID\", \"Amount\", \"Frequency\", \"Recency\"]\n",
    "grouped_df.head()"
   ],
   "metadata": {
    "collapsed": false,
    "ExecuteTime": {
     "end_time": "2023-12-28T14:53:42.438731Z",
     "start_time": "2023-12-28T14:53:42.341138Z"
    }
   },
   "id": "206eaf4b4eae2904",
   "execution_count": 107
  },
  {
   "cell_type": "code",
   "outputs": [
    {
     "data": {
      "text/plain": "   CustomerID   Amount  Frequency  Recency\n0     12346.0     0.00          2      325\n1     12347.0  4310.00        182        1\n2     12348.0  1797.24         31       74\n3     12349.0  1757.55         73       18\n4     12350.0   334.40         17      309",
      "text/html": "<div>\n<style scoped>\n    .dataframe tbody tr th:only-of-type {\n        vertical-align: middle;\n    }\n\n    .dataframe tbody tr th {\n        vertical-align: top;\n    }\n\n    .dataframe thead th {\n        text-align: right;\n    }\n</style>\n<table border=\"1\" class=\"dataframe\">\n  <thead>\n    <tr style=\"text-align: right;\">\n      <th></th>\n      <th>CustomerID</th>\n      <th>Amount</th>\n      <th>Frequency</th>\n      <th>Recency</th>\n    </tr>\n  </thead>\n  <tbody>\n    <tr>\n      <th>0</th>\n      <td>12346.0</td>\n      <td>0.00</td>\n      <td>2</td>\n      <td>325</td>\n    </tr>\n    <tr>\n      <th>1</th>\n      <td>12347.0</td>\n      <td>4310.00</td>\n      <td>182</td>\n      <td>1</td>\n    </tr>\n    <tr>\n      <th>2</th>\n      <td>12348.0</td>\n      <td>1797.24</td>\n      <td>31</td>\n      <td>74</td>\n    </tr>\n    <tr>\n      <th>3</th>\n      <td>12349.0</td>\n      <td>1757.55</td>\n      <td>73</td>\n      <td>18</td>\n    </tr>\n    <tr>\n      <th>4</th>\n      <td>12350.0</td>\n      <td>334.40</td>\n      <td>17</td>\n      <td>309</td>\n    </tr>\n  </tbody>\n</table>\n</div>"
     },
     "execution_count": 108,
     "metadata": {},
     "output_type": "execute_result"
    }
   ],
   "source": [
    "# number of days only\n",
    "grouped_df[\"Recency\"] = grouped_df[\"Recency\"].dt.days\n",
    "grouped_df.head()"
   ],
   "metadata": {
    "collapsed": false,
    "ExecuteTime": {
     "end_time": "2023-12-28T14:53:42.488919Z",
     "start_time": "2023-12-28T14:53:42.350158Z"
    }
   },
   "id": "d8f6a01677f45e65",
   "execution_count": 108
  },
  {
   "cell_type": "markdown",
   "source": [
    "#### Outlier Treatment"
   ],
   "metadata": {
    "collapsed": false
   },
   "id": "a196def2c3496790"
  },
  {
   "cell_type": "code",
   "outputs": [
    {
     "data": {
      "text/plain": "<Figure size 1920x1200 with 3 Axes>",
      "image/png": "[encoded data removed]"
     },
     "metadata": {},
     "output_type": "display_data"
    }
   ],
   "source": [
    "plt.figure(figsize=(16, 10), dpi=120)\n",
    "plt.subplot(2, 2, 1)\n",
    "sns.boxplot(data=grouped_df, x=\"Amount\")\n",
    "\n",
    "plt.subplot(2, 2, 2)\n",
    "sns.boxplot(data=grouped_df, x=\"Frequency\")\n",
    "\n",
    "plt.subplot(2, 2, 3)\n",
    "sns.boxplot(data=grouped_df, x=\"Recency\")\n",
    "\n",
    "plt.show()"
   ],
   "metadata": {
    "collapsed": false,
    "ExecuteTime": {
     "end_time": "2023-12-28T14:53:42.719068Z",
     "start_time": "2023-12-28T14:53:42.359444Z"
    }
   },
   "id": "5a5083c356549c87",
   "execution_count": 109
  },
  {
   "cell_type": "code",
   "outputs": [],
   "source": [
    "# Removing Statistical outliers\n",
    "# Treatment for Amount\n",
    "Q1 = grouped_df.Amount.quantile(0.05)\n",
    "Q3 = grouped_df.Amount.quantile(0.95)\n",
    "IQR = Q3 - Q1\n",
    "grouped_df = grouped_df[(grouped_df.Amount >= Q1 - 1.5 * IQR) & (grouped_df.Amount <= Q3 + 1.5 * IQR)]\n",
    "\n",
    "# Treatment for Frequency\n",
    "Q1 = grouped_df.Frequency.quantile(0.05)\n",
    "Q3 = grouped_df.Frequency.quantile(0.95)\n",
    "IQR = Q3 - Q1\n",
    "grouped_df = grouped_df[(grouped_df.Frequency >= Q1 - 1.5 * IQR) & (grouped_df.Frequency <= Q3 + 1.5 * IQR)]\n",
    "\n",
    "# Treatment for Recency\n",
    "Q1 = grouped_df.Recency.quantile(0.05)\n",
    "Q3 = grouped_df.Recency.quantile(0.95)\n",
    "IQR = Q3 - Q1\n",
    "grouped_df = grouped_df[(grouped_df.Recency >= Q1 - 1.5 * IQR) & (grouped_df.Recency <= Q3 + 1.5 * IQR)]"
   ],
   "metadata": {
    "collapsed": false,
    "ExecuteTime": {
     "end_time": "2023-12-28T14:53:42.720597Z",
     "start_time": "2023-12-28T14:53:42.625424Z"
    }
   },
   "id": "cb46821649b31570",
   "execution_count": 110
  },
  {
   "cell_type": "markdown",
   "source": [
    "#### Rescaling\n",
    "Converting the tree variables into the same scale"
   ],
   "metadata": {
    "collapsed": false
   },
   "id": "5558563dba689be7"
  },
  {
   "cell_type": "code",
   "outputs": [
    {
     "data": {
      "text/plain": "    Amount  Frequency  Recency\n0     0.00          2      325\n1  4310.00        182        1\n2  1797.24         31       74\n3  1757.55         73       18\n4   334.40         17      309",
      "text/html": "<div>\n<style scoped>\n    .dataframe tbody tr th:only-of-type {\n        vertical-align: middle;\n    }\n\n    .dataframe tbody tr th {\n        vertical-align: top;\n    }\n\n    .dataframe thead th {\n        text-align: right;\n    }\n</style>\n<table border=\"1\" class=\"dataframe\">\n  <thead>\n    <tr style=\"text-align: right;\">\n      <th></th>\n      <th>Amount</th>\n      <th>Frequency</th>\n      <th>Recency</th>\n    </tr>\n  </thead>\n  <tbody>\n    <tr>\n      <th>0</th>\n      <td>0.00</td>\n      <td>2</td>\n      <td>325</td>\n    </tr>\n    <tr>\n      <th>1</th>\n      <td>4310.00</td>\n      <td>182</td>\n      <td>1</td>\n    </tr>\n    <tr>\n      <th>2</th>\n      <td>1797.24</td>\n      <td>31</td>\n      <td>74</td>\n    </tr>\n    <tr>\n      <th>3</th>\n      <td>1757.55</td>\n      <td>73</td>\n      <td>18</td>\n    </tr>\n    <tr>\n      <th>4</th>\n      <td>334.40</td>\n      <td>17</td>\n      <td>309</td>\n    </tr>\n  </tbody>\n</table>\n</div>"
     },
     "execution_count": 111,
     "metadata": {},
     "output_type": "execute_result"
    }
   ],
   "source": [
    "rfm_df = grouped_df[[\"Amount\", \"Frequency\", \"Recency\"]]\n",
    "rfm_df.head()"
   ],
   "metadata": {
    "collapsed": false,
    "ExecuteTime": {
     "end_time": "2023-12-28T14:53:42.900250Z",
     "start_time": "2023-12-28T14:53:42.644303Z"
    }
   },
   "id": "15d14f2623fc72a4",
   "execution_count": 111
  },
  {
   "cell_type": "code",
   "outputs": [
    {
     "data": {
      "text/plain": "(4293, 3)"
     },
     "execution_count": 112,
     "metadata": {},
     "output_type": "execute_result"
    }
   ],
   "source": [
    "# Instantiate the scaler\n",
    "scaler = StandardScaler()\n",
    "\n",
    "# fit\n",
    "rfm_df_scaled = scaler.fit_transform(rfm_df)\n",
    "rfm_df_scaled.shape"
   ],
   "metadata": {
    "collapsed": false,
    "ExecuteTime": {
     "end_time": "2023-12-28T14:53:42.910374Z",
     "start_time": "2023-12-28T14:53:42.653792Z"
    }
   },
   "id": "bf5574372424a3ce",
   "execution_count": 112
  },
  {
   "cell_type": "markdown",
   "source": [
    "## Calculating Hopkins Statistics:\n",
    "The Hopkins statistic, is a statistic which gives a value which indicates the cluster tendency, in other words: how well the data can be clustered.\n",
    "\n",
    "- If the value is between {0.01, ...,0.3}, the data is regularly spaced.\n",
    "\n",
    "- If the value is around 0.5, it is random.\n",
    "\n",
    "- If the value is between {0.7, ..., 0.99}, it has a high tendency to cluster."
   ],
   "metadata": {
    "collapsed": false
   },
   "id": "2ac363b8dbf2f7d"
  },
  {
   "cell_type": "code",
   "outputs": [
    {
     "data": {
      "text/plain": "          0         1         2\n0 -0.723738 -0.752888  2.301611\n1  1.731617  1.042467 -0.906466\n2  0.300128 -0.463636 -0.183658\n3  0.277517 -0.044720 -0.738141\n4 -0.533235 -0.603275  2.143188",
      "text/html": "<div>\n<style scoped>\n    .dataframe tbody tr th:only-of-type {\n        vertical-align: middle;\n    }\n\n    .dataframe tbody tr th {\n        vertical-align: top;\n    }\n\n    .dataframe thead th {\n        text-align: right;\n    }\n</style>\n<table border=\"1\" class=\"dataframe\">\n  <thead>\n    <tr style=\"text-align: right;\">\n      <th></th>\n      <th>0</th>\n      <th>1</th>\n      <th>2</th>\n    </tr>\n  </thead>\n  <tbody>\n    <tr>\n      <th>0</th>\n      <td>-0.723738</td>\n      <td>-0.752888</td>\n      <td>2.301611</td>\n    </tr>\n    <tr>\n      <th>1</th>\n      <td>1.731617</td>\n      <td>1.042467</td>\n      <td>-0.906466</td>\n    </tr>\n    <tr>\n      <th>2</th>\n      <td>0.300128</td>\n      <td>-0.463636</td>\n      <td>-0.183658</td>\n    </tr>\n    <tr>\n      <th>3</th>\n      <td>0.277517</td>\n      <td>-0.044720</td>\n      <td>-0.738141</td>\n    </tr>\n    <tr>\n      <th>4</th>\n      <td>-0.533235</td>\n      <td>-0.603275</td>\n      <td>2.143188</td>\n    </tr>\n  </tbody>\n</table>\n</div>"
     },
     "execution_count": 113,
     "metadata": {},
     "output_type": "execute_result"
    }
   ],
   "source": [
    "rfm_df_scaled = pd.DataFrame(rfm_df_scaled)\n",
    "rfm_df_scaled.head()"
   ],
   "metadata": {
    "collapsed": false,
    "ExecuteTime": {
     "end_time": "2023-12-28T14:53:42.912136Z",
     "start_time": "2023-12-28T14:53:42.661794Z"
    }
   },
   "id": "cb469f83ad7edebf",
   "execution_count": 113
  },
  {
   "cell_type": "code",
   "outputs": [],
   "source": [
    "def hopkins(x):\n",
    "    d = x.shape[1]\n",
    "    #d = len(vars) # columns\n",
    "    n = len(x) # rows\n",
    "    m = int(0.1 * n) \n",
    "    neighbors = NearestNeighbors(n_neighbors=1).fit(x.values)\n",
    " \n",
    "    rand_x = sample(range(0, n, 1), m)\n",
    " \n",
    "    ujd = []\n",
    "    wjd = []\n",
    "    for j in range(0, m):\n",
    "        u_dist, _ = neighbors.kneighbors(np.random.uniform(np.amin(x,axis=0),np.amax(x,axis=0),d).reshape(1, -1), 2, return_distance=True)\n",
    "        ujd.append(u_dist[0][1])\n",
    "        w_dist, _ = neighbors.kneighbors(x.iloc[rand_x[j]].values.reshape(1, -1), 2, return_distance=True)\n",
    "        wjd.append(w_dist[0][1])\n",
    " \n",
    "    h = sum(ujd) / (sum(ujd) + sum(wjd))\n",
    "    if isnan(h):\n",
    "        print(ujd, wjd)\n",
    "        h = 0\n",
    " \n",
    "    return h"
   ],
   "metadata": {
    "collapsed": false,
    "ExecuteTime": {
     "end_time": "2023-12-28T14:53:42.913182Z",
     "start_time": "2023-12-28T14:53:42.668149Z"
    }
   },
   "id": "74e8de8b0b075cc7",
   "execution_count": 114
  },
  {
   "cell_type": "code",
   "outputs": [
    {
     "data": {
      "text/plain": "0.9565435937177251"
     },
     "execution_count": 115,
     "metadata": {},
     "output_type": "execute_result"
    }
   ],
   "source": [
    "value = hopkins(rfm_df_scaled)\n",
    "value"
   ],
   "metadata": {
    "collapsed": false,
    "ExecuteTime": {
     "end_time": "2023-12-28T14:53:43.062403Z",
     "start_time": "2023-12-28T14:53:42.676251Z"
    }
   },
   "id": "83b257f2fc9bda8f",
   "execution_count": 115
  },
  {
   "cell_type": "markdown",
   "source": [
    "##### Means that our dataframe is Clusterable"
   ],
   "metadata": {
    "collapsed": false
   },
   "id": "70999272c721ff7e"
  },
  {
   "cell_type": "markdown",
   "source": [
    "# 4) Modelling"
   ],
   "metadata": {
    "collapsed": false
   },
   "id": "ccc4317d400038b4"
  },
  {
   "cell_type": "code",
   "outputs": [
    {
     "data": {
      "text/plain": "     Amount  Frequency   Recency\n0 -0.723738  -0.752888  2.301611\n1  1.731617   1.042467 -0.906466\n2  0.300128  -0.463636 -0.183658\n3  0.277517  -0.044720 -0.738141\n4 -0.533235  -0.603275  2.143188",
      "text/html": "<div>\n<style scoped>\n    .dataframe tbody tr th:only-of-type {\n        vertical-align: middle;\n    }\n\n    .dataframe tbody tr th {\n        vertical-align: top;\n    }\n\n    .dataframe thead th {\n        text-align: right;\n    }\n</style>\n<table border=\"1\" class=\"dataframe\">\n  <thead>\n    <tr style=\"text-align: right;\">\n      <th></th>\n      <th>Amount</th>\n      <th>Frequency</th>\n      <th>Recency</th>\n    </tr>\n  </thead>\n  <tbody>\n    <tr>\n      <th>0</th>\n      <td>-0.723738</td>\n      <td>-0.752888</td>\n      <td>2.301611</td>\n    </tr>\n    <tr>\n      <th>1</th>\n      <td>1.731617</td>\n      <td>1.042467</td>\n      <td>-0.906466</td>\n    </tr>\n    <tr>\n      <th>2</th>\n      <td>0.300128</td>\n      <td>-0.463636</td>\n      <td>-0.183658</td>\n    </tr>\n    <tr>\n      <th>3</th>\n      <td>0.277517</td>\n      <td>-0.044720</td>\n      <td>-0.738141</td>\n    </tr>\n    <tr>\n      <th>4</th>\n      <td>-0.533235</td>\n      <td>-0.603275</td>\n      <td>2.143188</td>\n    </tr>\n  </tbody>\n</table>\n</div>"
     },
     "execution_count": 116,
     "metadata": {},
     "output_type": "execute_result"
    }
   ],
   "source": [
    "rfm_df_scaled.columns = [\"Amount\", \"Frequency\", \"Recency\"]\n",
    "rfm_df_scaled.head()"
   ],
   "metadata": {
    "collapsed": false,
    "ExecuteTime": {
     "end_time": "2023-12-28T14:53:43.065034Z",
     "start_time": "2023-12-28T14:53:42.924273Z"
    }
   },
   "id": "c48680498d1848dd",
   "execution_count": 116
  },
  {
   "cell_type": "code",
   "outputs": [
    {
     "data": {
      "text/plain": "KMeans(max_iter=50, n_clusters=4)",
      "text/html": "<style>#sk-container-id-4 {color: black;}#sk-container-id-4 pre{padding: 0;}#sk-container-id-4 div.sk-toggleable {background-color: white;}#sk-container-id-4 label.sk-toggleable__label {cursor: pointer;display: block;width: 100%;margin-bottom: 0;padding: 0.3em;box-sizing: border-box;text-align: center;}#sk-container-id-4 label.sk-toggleable__label-arrow:before {content: \"▸\";float: left;margin-right: 0.25em;color: #696969;}#sk-container-id-4 label.sk-toggleable__label-arrow:hover:before {color: black;}#sk-container-id-4 div.sk-estimator:hover label.sk-toggleable__label-arrow:before {color: black;}#sk-container-id-4 div.sk-toggleable__content {max-height: 0;max-width: 0;overflow: hidden;text-align: left;background-color: #f0f8ff;}#sk-container-id-4 div.sk-toggleable__content pre {margin: 0.2em;color: black;border-radius: 0.25em;background-color: #f0f8ff;}#sk-container-id-4 input.sk-toggleable__control:checked~div.sk-toggleable__content {max-height: 200px;max-width: 100%;overflow: auto;}#sk-container-id-4 input.sk-toggleable__control:checked~label.sk-toggleable__label-arrow:before {content: \"▾\";}#sk-container-id-4 div.sk-estimator input.sk-toggleable__control:checked~label.sk-toggleable__label {background-color: #d4ebff;}#sk-container-id-4 div.sk-label input.sk-toggleable__control:checked~label.sk-toggleable__label {background-color: #d4ebff;}#sk-container-id-4 input.sk-hidden--visually {border: 0;clip: rect(1px 1px 1px 1px);clip: rect(1px, 1px, 1px, 1px);height: 1px;margin: -1px;overflow: hidden;padding: 0;position: absolute;width: 1px;}#sk-container-id-4 div.sk-estimator {font-family: monospace;background-color: #f0f8ff;border: 1px dotted black;border-radius: 0.25em;box-sizing: border-box;margin-bottom: 0.5em;}#sk-container-id-4 div.sk-estimator:hover {background-color: #d4ebff;}#sk-container-id-4 div.sk-parallel-item::after {content: \"\";width: 100%;border-bottom: 1px solid gray;flex-grow: 1;}#sk-container-id-4 div.sk-label:hover label.sk-toggleable__label {background-color: #d4ebff;}#sk-container-id-4 div.sk-serial::before {content: \"\";position: absolute;border-left: 1px solid gray;box-sizing: border-box;top: 0;bottom: 0;left: 50%;z-index: 0;}#sk-container-id-4 div.sk-serial {display: flex;flex-direction: column;align-items: center;background-color: white;padding-right: 0.2em;padding-left: 0.2em;position: relative;}#sk-container-id-4 div.sk-item {position: relative;z-index: 1;}#sk-container-id-4 div.sk-parallel {display: flex;align-items: stretch;justify-content: center;background-color: white;position: relative;}#sk-container-id-4 div.sk-item::before, #sk-container-id-4 div.sk-parallel-item::before {content: \"\";position: absolute;border-left: 1px solid gray;box-sizing: border-box;top: 0;bottom: 0;left: 50%;z-index: -1;}#sk-container-id-4 div.sk-parallel-item {display: flex;flex-direction: column;z-index: 1;position: relative;background-color: white;}#sk-container-id-4 div.sk-parallel-item:first-child::after {align-self: flex-end;width: 50%;}#sk-container-id-4 div.sk-parallel-item:last-child::after {align-self: flex-start;width: 50%;}#sk-container-id-4 div.sk-parallel-item:only-child::after {width: 0;}#sk-container-id-4 div.sk-dashed-wrapped {border: 1px dashed gray;margin: 0 0.4em 0.5em 0.4em;box-sizing: border-box;padding-bottom: 0.4em;background-color: white;}#sk-container-id-4 div.sk-label label {font-family: monospace;font-weight: bold;display: inline-block;line-height: 1.2em;}#sk-container-id-4 div.sk-label-container {text-align: center;}#sk-container-id-4 div.sk-container {/* jupyter's `normalize.less` sets `[hidden] { display: none; }` but bootstrap.min.css set `[hidden] { display: none !important; }` so we also need the `!important` here to be able to override the default hidden behavior on the sphinx rendered scikit-learn.org. See: https://github.com/scikit-learn/scikit-learn/issues/21755 */display: inline-block !important;position: relative;}#sk-container-id-4 div.sk-text-repr-fallback {display: none;}</style><div id=\"sk-container-id-4\" class=\"sk-top-container\"><div class=\"sk-text-repr-fallback\"><pre>KMeans(max_iter=50, n_clusters=4)</pre><b>In a Jupyter environment, please rerun this cell to show the HTML representation or trust the notebook. <br />On GitHub, the HTML representation is unable to render, please try loading this page with nbviewer.org.</b></div><div class=\"sk-container\" hidden><div class=\"sk-item\"><div class=\"sk-estimator sk-toggleable\"><input class=\"sk-toggleable__control sk-hidden--visually\" id=\"sk-estimator-id-4\" type=\"checkbox\" checked><label for=\"sk-estimator-id-4\" class=\"sk-toggleable__label sk-toggleable__label-arrow\">KMeans</label><div class=\"sk-toggleable__content\"><pre>KMeans(max_iter=50, n_clusters=4)</pre></div></div></div></div></div>"
     },
     "execution_count": 117,
     "metadata": {},
     "output_type": "execute_result"
    }
   ],
   "source": [
    "# Kmeans with some arbitrary K\n",
    "Kmeans = KMeans(n_clusters=4, max_iter=50)\n",
    "Kmeans.fit(rfm_df_scaled)"
   ],
   "metadata": {
    "collapsed": false,
    "ExecuteTime": {
     "end_time": "2023-12-28T14:53:43.380185Z",
     "start_time": "2023-12-28T14:53:42.928270Z"
    }
   },
   "id": "f04509ba89f3b9e0",
   "execution_count": 117
  },
  {
   "cell_type": "code",
   "outputs": [
    {
     "name": "stdout",
     "output_type": "stream",
     "text": [
      "[3 2 1 ... 3 1 1]\n"
     ]
    }
   ],
   "source": [
    "print(Kmeans.labels_)"
   ],
   "metadata": {
    "collapsed": false,
    "ExecuteTime": {
     "end_time": "2023-12-28T14:53:43.381664Z",
     "start_time": "2023-12-28T14:53:43.364492Z"
    }
   },
   "id": "3f819dd899fc0e42",
   "execution_count": 118
  },
  {
   "cell_type": "markdown",
   "source": [
    "#### By Elbow Curve technique to finding the optimal number of clusters which is also called Sum of Squared Distances(SSD)"
   ],
   "metadata": {
    "collapsed": false
   },
   "id": "24c543d3d4a2cb12"
  },
  {
   "cell_type": "code",
   "outputs": [
    {
     "data": {
      "text/plain": "<Figure size 640x480 with 1 Axes>",
      "image/png": "[encoded data removed]"
     },
     "metadata": {},
     "output_type": "display_data"
    }
   ],
   "source": [
    "ssd = []\n",
    "range_of_clusters = [2, 3, 4, 5, 6, 7, 8] \n",
    "for number_of_clusters in range_of_clusters:\n",
    "    Kmeans = KMeans(n_clusters=number_of_clusters, max_iter=50)\n",
    "    Kmeans.fit(rfm_df_scaled)\n",
    "    \n",
    "    ssd.append(Kmeans.inertia_)\n",
    "    \n",
    "# Plot the sum of squared distances for each n_clusters\n",
    "plt.plot(ssd)\n",
    "plt.show()"
   ],
   "metadata": {
    "collapsed": false,
    "ExecuteTime": {
     "end_time": "2023-12-28T14:53:45.853401Z",
     "start_time": "2023-12-28T14:53:43.372167Z"
    }
   },
   "id": "d9e7f79ad763fb58",
   "execution_count": 119
  },
  {
   "cell_type": "markdown",
   "source": [
    "#### Finding the optimal number of clusters using the silhoutte Analysis"
   ],
   "metadata": {
    "collapsed": false
   },
   "id": "f691549335b0798"
  },
  {
   "cell_type": "code",
   "outputs": [
    {
     "name": "stdout",
     "output_type": "stream",
     "text": [
      "for n_clusters = 2, the silhouette_score is 0.5415858652525395\n",
      "for n_clusters = 3, the silhouette_score is 0.5084896296141937\n",
      "for n_clusters = 4, the silhouette_score is 0.48104681487838963\n",
      "for n_clusters = 5, the silhouette_score is 0.46627005641897035\n",
      "for n_clusters = 6, the silhouette_score is 0.4169515238218781\n",
      "for n_clusters = 7, the silhouette_score is 0.4148000729503976\n",
      "for n_clusters = 8, the silhouette_score is 0.39256350815867763\n"
     ]
    }
   ],
   "source": [
    "for number_of_clusters in range_of_clusters:\n",
    "    # initialize kmeans\n",
    "    Kmeans = KMeans(n_clusters=number_of_clusters, max_iter=50)\n",
    "    Kmeans.fit(rfm_df_scaled)\n",
    "    \n",
    "    cluster_labels = Kmeans.labels_\n",
    "    \n",
    "    # silhouette score\n",
    "    silhouette_avg = silhouette_score(rfm_df_scaled, cluster_labels)\n",
    "    print(f\"for n_clusters = {number_of_clusters}, the silhouette_score is {silhouette_avg}\")"
   ],
   "metadata": {
    "collapsed": false,
    "ExecuteTime": {
     "end_time": "2023-12-28T14:53:49.042642Z",
     "start_time": "2023-12-28T14:53:45.853600Z"
    }
   },
   "id": "d01f11a1697f65cd",
   "execution_count": 120
  },
  {
   "cell_type": "markdown",
   "source": [
    "Let's go ahead with 3 clusters"
   ],
   "metadata": {
    "collapsed": false
   },
   "id": "b65227c43d691bb4"
  },
  {
   "cell_type": "code",
   "outputs": [
    {
     "data": {
      "text/plain": "KMeans(max_iter=50, n_clusters=3)",
      "text/html": "<style>#sk-container-id-5 {color: black;}#sk-container-id-5 pre{padding: 0;}#sk-container-id-5 div.sk-toggleable {background-color: white;}#sk-container-id-5 label.sk-toggleable__label {cursor: pointer;display: block;width: 100%;margin-bottom: 0;padding: 0.3em;box-sizing: border-box;text-align: center;}#sk-container-id-5 label.sk-toggleable__label-arrow:before {content: \"▸\";float: left;margin-right: 0.25em;color: #696969;}#sk-container-id-5 label.sk-toggleable__label-arrow:hover:before {color: black;}#sk-container-id-5 div.sk-estimator:hover label.sk-toggleable__label-arrow:before {color: black;}#sk-container-id-5 div.sk-toggleable__content {max-height: 0;max-width: 0;overflow: hidden;text-align: left;background-color: #f0f8ff;}#sk-container-id-5 div.sk-toggleable__content pre {margin: 0.2em;color: black;border-radius: 0.25em;background-color: #f0f8ff;}#sk-container-id-5 input.sk-toggleable__control:checked~div.sk-toggleable__content {max-height: 200px;max-width: 100%;overflow: auto;}#sk-container-id-5 input.sk-toggleable__control:checked~label.sk-toggleable__label-arrow:before {content: \"▾\";}#sk-container-id-5 div.sk-estimator input.sk-toggleable__control:checked~label.sk-toggleable__label {background-color: #d4ebff;}#sk-container-id-5 div.sk-label input.sk-toggleable__control:checked~label.sk-toggleable__label {background-color: #d4ebff;}#sk-container-id-5 input.sk-hidden--visually {border: 0;clip: rect(1px 1px 1px 1px);clip: rect(1px, 1px, 1px, 1px);height: 1px;margin: -1px;overflow: hidden;padding: 0;position: absolute;width: 1px;}#sk-container-id-5 div.sk-estimator {font-family: monospace;background-color: #f0f8ff;border: 1px dotted black;border-radius: 0.25em;box-sizing: border-box;margin-bottom: 0.5em;}#sk-container-id-5 div.sk-estimator:hover {background-color: #d4ebff;}#sk-container-id-5 div.sk-parallel-item::after {content: \"\";width: 100%;border-bottom: 1px solid gray;flex-grow: 1;}#sk-container-id-5 div.sk-label:hover label.sk-toggleable__label {background-color: #d4ebff;}#sk-container-id-5 div.sk-serial::before {content: \"\";position: absolute;border-left: 1px solid gray;box-sizing: border-box;top: 0;bottom: 0;left: 50%;z-index: 0;}#sk-container-id-5 div.sk-serial {display: flex;flex-direction: column;align-items: center;background-color: white;padding-right: 0.2em;padding-left: 0.2em;position: relative;}#sk-container-id-5 div.sk-item {position: relative;z-index: 1;}#sk-container-id-5 div.sk-parallel {display: flex;align-items: stretch;justify-content: center;background-color: white;position: relative;}#sk-container-id-5 div.sk-item::before, #sk-container-id-5 div.sk-parallel-item::before {content: \"\";position: absolute;border-left: 1px solid gray;box-sizing: border-box;top: 0;bottom: 0;left: 50%;z-index: -1;}#sk-container-id-5 div.sk-parallel-item {display: flex;flex-direction: column;z-index: 1;position: relative;background-color: white;}#sk-container-id-5 div.sk-parallel-item:first-child::after {align-self: flex-end;width: 50%;}#sk-container-id-5 div.sk-parallel-item:last-child::after {align-self: flex-start;width: 50%;}#sk-container-id-5 div.sk-parallel-item:only-child::after {width: 0;}#sk-container-id-5 div.sk-dashed-wrapped {border: 1px dashed gray;margin: 0 0.4em 0.5em 0.4em;box-sizing: border-box;padding-bottom: 0.4em;background-color: white;}#sk-container-id-5 div.sk-label label {font-family: monospace;font-weight: bold;display: inline-block;line-height: 1.2em;}#sk-container-id-5 div.sk-label-container {text-align: center;}#sk-container-id-5 div.sk-container {/* jupyter's `normalize.less` sets `[hidden] { display: none; }` but bootstrap.min.css set `[hidden] { display: none !important; }` so we also need the `!important` here to be able to override the default hidden behavior on the sphinx rendered scikit-learn.org. See: https://github.com/scikit-learn/scikit-learn/issues/21755 */display: inline-block !important;position: relative;}#sk-container-id-5 div.sk-text-repr-fallback {display: none;}</style><div id=\"sk-container-id-5\" class=\"sk-top-container\"><div class=\"sk-text-repr-fallback\"><pre>KMeans(max_iter=50, n_clusters=3)</pre><b>In a Jupyter environment, please rerun this cell to show the HTML representation or trust the notebook. <br />On GitHub, the HTML representation is unable to render, please try loading this page with nbviewer.org.</b></div><div class=\"sk-container\" hidden><div class=\"sk-item\"><div class=\"sk-estimator sk-toggleable\"><input class=\"sk-toggleable__control sk-hidden--visually\" id=\"sk-estimator-id-5\" type=\"checkbox\" checked><label for=\"sk-estimator-id-5\" class=\"sk-toggleable__label sk-toggleable__label-arrow\">KMeans</label><div class=\"sk-toggleable__content\"><pre>KMeans(max_iter=50, n_clusters=3)</pre></div></div></div></div></div>"
     },
     "execution_count": 121,
     "metadata": {},
     "output_type": "execute_result"
    }
   ],
   "source": [
    "Kmeans = KMeans(n_clusters=3, max_iter=50)\n",
    "Kmeans.fit(rfm_df_scaled)"
   ],
   "metadata": {
    "collapsed": false,
    "ExecuteTime": {
     "end_time": "2023-12-28T14:53:49.212647Z",
     "start_time": "2023-12-28T14:53:49.048516Z"
    }
   },
   "id": "cda71e1c515c82bf",
   "execution_count": 121
  },
  {
   "cell_type": "code",
   "outputs": [
    {
     "data": {
      "text/plain": "array([2, 0, 1, ..., 2, 1, 1], dtype=int32)"
     },
     "execution_count": 122,
     "metadata": {},
     "output_type": "execute_result"
    }
   ],
   "source": [
    "Kmeans.labels_"
   ],
   "metadata": {
    "collapsed": false,
    "ExecuteTime": {
     "end_time": "2023-12-28T14:53:49.257904Z",
     "start_time": "2023-12-28T14:53:49.216016Z"
    }
   },
   "id": "6899313fa522e844",
   "execution_count": 122
  },
  {
   "cell_type": "code",
   "outputs": [],
   "source": [
    "grouped_df[\"Cluster_id\"] = Kmeans.labels_"
   ],
   "metadata": {
    "collapsed": false,
    "ExecuteTime": {
     "end_time": "2023-12-28T14:53:49.258125Z",
     "start_time": "2023-12-28T14:53:49.248352Z"
    }
   },
   "id": "467c2e18ef9b086d",
   "execution_count": 123
  },
  {
   "cell_type": "code",
   "outputs": [
    {
     "data": {
      "text/plain": "      CustomerID   Amount  Frequency  Recency  Cluster_id\n0        12346.0     0.00          2      325           2\n1        12347.0  4310.00        182        1           0\n2        12348.0  1797.24         31       74           1\n3        12349.0  1757.55         73       18           1\n4        12350.0   334.40         17      309           2\n...          ...      ...        ...      ...         ...\n4366     18278.0   173.90          9       73           1\n4367     18280.0   180.60         10      277           2\n4368     18281.0    80.82          7      180           2\n4369     18282.0   176.60         13        7           1\n4371     18287.0  1837.28         70       42           1\n\n[4293 rows x 5 columns]",
      "text/html": "<div>\n<style scoped>\n    .dataframe tbody tr th:only-of-type {\n        vertical-align: middle;\n    }\n\n    .dataframe tbody tr th {\n        vertical-align: top;\n    }\n\n    .dataframe thead th {\n        text-align: right;\n    }\n</style>\n<table border=\"1\" class=\"dataframe\">\n  <thead>\n    <tr style=\"text-align: right;\">\n      <th></th>\n      <th>CustomerID</th>\n      <th>Amount</th>\n      <th>Frequency</th>\n      <th>Recency</th>\n      <th>Cluster_id</th>\n    </tr>\n  </thead>\n  <tbody>\n    <tr>\n      <th>0</th>\n      <td>12346.0</td>\n      <td>0.00</td>\n      <td>2</td>\n      <td>325</td>\n      <td>2</td>\n    </tr>\n    <tr>\n      <th>1</th>\n      <td>12347.0</td>\n      <td>4310.00</td>\n      <td>182</td>\n      <td>1</td>\n      <td>0</td>\n    </tr>\n    <tr>\n      <th>2</th>\n      <td>12348.0</td>\n      <td>1797.24</td>\n      <td>31</td>\n      <td>74</td>\n      <td>1</td>\n    </tr>\n    <tr>\n      <th>3</th>\n      <td>12349.0</td>\n      <td>1757.55</td>\n      <td>73</td>\n      <td>18</td>\n      <td>1</td>\n    </tr>\n    <tr>\n      <th>4</th>\n      <td>12350.0</td>\n      <td>334.40</td>\n      <td>17</td>\n      <td>309</td>\n      <td>2</td>\n    </tr>\n    <tr>\n      <th>...</th>\n      <td>...</td>\n      <td>...</td>\n      <td>...</td>\n      <td>...</td>\n      <td>...</td>\n    </tr>\n    <tr>\n      <th>4366</th>\n      <td>18278.0</td>\n      <td>173.90</td>\n      <td>9</td>\n      <td>73</td>\n      <td>1</td>\n    </tr>\n    <tr>\n      <th>4367</th>\n      <td>18280.0</td>\n      <td>180.60</td>\n      <td>10</td>\n      <td>277</td>\n      <td>2</td>\n    </tr>\n    <tr>\n      <th>4368</th>\n      <td>18281.0</td>\n      <td>80.82</td>\n      <td>7</td>\n      <td>180</td>\n      <td>2</td>\n    </tr>\n    <tr>\n      <th>4369</th>\n      <td>18282.0</td>\n      <td>176.60</td>\n      <td>13</td>\n      <td>7</td>\n      <td>1</td>\n    </tr>\n    <tr>\n      <th>4371</th>\n      <td>18287.0</td>\n      <td>1837.28</td>\n      <td>70</td>\n      <td>42</td>\n      <td>1</td>\n    </tr>\n  </tbody>\n</table>\n<p>4293 rows × 5 columns</p>\n</div>"
     },
     "execution_count": 124,
     "metadata": {},
     "output_type": "execute_result"
    }
   ],
   "source": [
    "grouped_df"
   ],
   "metadata": {
    "collapsed": false,
    "ExecuteTime": {
     "end_time": "2023-12-28T14:53:49.297687Z",
     "start_time": "2023-12-28T14:53:49.258896Z"
    }
   },
   "id": "2a0183a31ed45d8a",
   "execution_count": 124
  },
  {
   "cell_type": "code",
   "outputs": [
    {
     "data": {
      "text/plain": "<Figure size 640x480 with 1 Axes>",
      "image/png": "[encoded data removed]"
     },
     "metadata": {},
     "output_type": "display_data"
    }
   ],
   "source": [
    "sns.boxplot(data=grouped_df, x=\"Cluster_id\", y=\"Amount\")\n",
    "plt.show()"
   ],
   "metadata": {
    "collapsed": false,
    "ExecuteTime": {
     "end_time": "2023-12-28T14:53:49.418772Z",
     "start_time": "2023-12-28T14:53:49.267012Z"
    }
   },
   "id": "b37f5e1d27946fad",
   "execution_count": 125
  },
  {
   "cell_type": "code",
   "outputs": [
    {
     "data": {
      "text/plain": "<Figure size 640x480 with 1 Axes>",
      "image/png": "[encoded data removed]"
     },
     "metadata": {},
     "output_type": "display_data"
    }
   ],
   "source": [
    "sns.boxplot(data=grouped_df, x=\"Cluster_id\", y=\"Frequency\")\n",
    "plt.show()"
   ],
   "metadata": {
    "collapsed": false,
    "ExecuteTime": {
     "end_time": "2023-12-28T14:53:49.476943Z",
     "start_time": "2023-12-28T14:53:49.385041Z"
    }
   },
   "id": "2dcbeb93070b8a58",
   "execution_count": 126
  },
  {
   "cell_type": "code",
   "outputs": [
    {
     "data": {
      "text/plain": "<Figure size 640x480 with 1 Axes>",
      "image/png": "[encoded data removed]"
     },
     "metadata": {},
     "output_type": "display_data"
    }
   ],
   "source": [
    "sns.boxplot(data=grouped_df, x=\"Cluster_id\", y=\"Recency\")\n",
    "plt.show()"
   ],
   "metadata": {
    "collapsed": false,
    "ExecuteTime": {
     "end_time": "2023-12-28T14:53:49.544489Z",
     "start_time": "2023-12-28T14:53:49.476514Z"
    }
   },
   "id": "3ee7c82db5ea755c",
   "execution_count": 127
  },
  {
   "cell_type": "code",
   "outputs": [],
   "source": [],
   "metadata": {
    "collapsed": false,
    "ExecuteTime": {
     "end_time": "2023-12-28T14:53:49.548083Z",
     "start_time": "2023-12-28T14:53:49.543939Z"
    }
   },
   "id": "d98fed75587ed03b",
   "execution_count": 127
  }
 ],
 "metadata": {
  "kernelspec": {
   "display_name": "Python 3",
   "language": "python",
   "name": "python3"
  },
  "language_info": {
   "codemirror_mode": {
    "name": "ipython",
    "version": 2
   },
   "file_extension": ".py",
   "mimetype": "text/x-python",
   "name": "python",
   "nbconvert_exporter": "python",
   "pygments_lexer": "ipython2",
   "version": "2.7.6"
  }
 },
 "nbformat": 4,
 "nbformat_minor": 5
}
